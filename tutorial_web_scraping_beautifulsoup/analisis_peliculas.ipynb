{
 "cells": [
  {
   "cell_type": "markdown",
   "id": "0cd3eb12-9391-4309-a693-01f35e978c28",
   "metadata": {},
   "source": [
    "Inspirado de https://github.com/mircealex/Scraped_dataset_movie_ratings"
   ]
  },
  {
   "cell_type": "code",
   "execution_count": 1,
   "id": "88352ce9-8fbd-4aa9-8d96-d2f82c406285",
   "metadata": {},
   "outputs": [
    {
     "name": "stdout",
     "output_type": "stream",
     "text": [
      "time: 242 µs (started: 2023-08-25 11:38:44 -05:00)\n"
     ]
    }
   ],
   "source": [
    "from time import sleep, time\n",
    "from random import randint\n",
    "from warnings import warn\n",
    "\n",
    "from bs4 import BeautifulSoup\n",
    "import pandas as pd\n",
    "from requests import get\n",
    "from IPython.display import clear_output\n",
    "\n",
    "%load_ext autotime"
   ]
  },
  {
   "cell_type": "code",
   "execution_count": 2,
   "id": "3db38819-767a-402c-8250-fc4c034b0364",
   "metadata": {},
   "outputs": [
    {
     "name": "stdout",
     "output_type": "stream",
     "text": [
      "time: 761 µs (started: 2023-08-25 11:38:48 -05:00)\n"
     ]
    }
   ],
   "source": [
    "paginas = (1, 251)\n",
    "url_años = [str(i) for i in range(2000, 2023)]\n",
    "\n",
    "\n",
    "# Listas para guardar los datos scrapeados\n",
    "nombres = []\n",
    "años = []\n",
    "calificaciones_imdb = []\n",
    "metascores = []\n",
    "votos = []\n",
    "\n",
    "# Preparacion para monitorear las iteraciones\n",
    "tiempo_inicio = time()\n",
    "peticiones = 0"
   ]
  },
  {
   "cell_type": "code",
   "execution_count": 3,
   "id": "3d9f66ea-4595-4381-a10c-1b3a79478c09",
   "metadata": {},
   "outputs": [
    {
     "name": "stdout",
     "output_type": "stream",
     "text": [
      "time: 10min 35s (started: 2023-08-25 11:38:55 -05:00)\n"
     ]
    }
   ],
   "source": [
    "for año in url_años:\n",
    "    for pagina in paginas:\n",
    "\n",
    "        url = f'https://www.imdb.com/search/title/?release_date={año}-01-01,{año}-12-31'\n",
    "        url += f'&sort=num_votes,desc&count=250&start={pagina}&ref_=adv_nxt'\n",
    "\n",
    "        # Hacer la peticion\n",
    "        respuesta = get(url)\n",
    "\n",
    "        # Pausar el ciclo\n",
    "        sleep(randint(8,15))\n",
    "\n",
    "        # Monitorear las peticiones\n",
    "        peticiones += 1\n",
    "        tiempo_transcurrido = time() - tiempo_inicio\n",
    "        print(f'Petición: {peticiones}; Frecuencia: {peticiones/tiempo_transcurrido} peticiones/s')\n",
    "        clear_output(wait = True)\n",
    "\n",
    "        # Throw a warning for non-200 status codes\n",
    "        if respuesta.status_code != 200:\n",
    "            warn('Petición: {}; Status code: {}'.format(peticiones, respuesta.status_code))\n",
    "\n",
    "        # Rompe el ciclo si el número de peticiones es muy mayor que el esperado\n",
    "        if peticiones > 47:\n",
    "            warn('Número de peticiones fue mayor al esperado.')\n",
    "            break\n",
    "\n",
    "        # Parsea el contenido de la petición con BeautifulSoup\n",
    "        sopa_html = BeautifulSoup(respuesta.text, 'html.parser')\n",
    "\n",
    "        # Selecciona todos los 250 contenedores de películas de una sola página\n",
    "        contenedores_pelicula = sopa_html.find_all('div', class_ = 'lister-item mode-advanced')\n",
    "\n",
    "        # Por cada película de estas 250\n",
    "        for contenedor in contenedores_pelicula:\n",
    "            # Si la película tiene Metascore, entonces extrae:\n",
    "            if contenedor.find('div', class_ = 'ratings-metascore') is not None:\n",
    "                \n",
    "                # El nombre\n",
    "                nombre = contenedor.h3.a.text\n",
    "                nombres.append(nombre)\n",
    "\n",
    "                # El año\n",
    "                año = contenedor.h3.find('span', class_ = 'lister-item-year').text\n",
    "                años.append(año)\n",
    "\n",
    "                # La calificación IMDB\n",
    "                imdb = float(contenedor.strong.text)\n",
    "                calificaciones_imdb.append(imdb)\n",
    "\n",
    "                # El Metascore\n",
    "                m_score = contenedor.find('span', class_ = 'metascore').text\n",
    "                metascores.append(int(m_score))\n",
    "\n",
    "                # El número de votos\n",
    "                voto = contenedor.find('span', attrs = {'name':'nv'})['data-value']\n",
    "                votos.append(int(voto))"
   ]
  },
  {
   "cell_type": "code",
   "execution_count": 4,
   "id": "a0ce3011-246f-4ae3-86ee-ac48123f7370",
   "metadata": {},
   "outputs": [
    {
     "name": "stdout",
     "output_type": "stream",
     "text": [
      "\n",
      "Generando dataframe con datos crudos...\n",
      "\n",
      "time: 64.3 ms (started: 2023-08-25 11:49:37 -05:00)\n"
     ]
    }
   ],
   "source": [
    "print()\n",
    "print(\"Generando dataframe con datos crudos...\")\n",
    "print()\n",
    "\n",
    "\n",
    "df = pd.DataFrame({\n",
    "    'película': nombres,\n",
    "    'año': años,\n",
    "    'imdb': calificaciones_imdb,\n",
    "    'metascore': metascores,\n",
    "    'votos': votos\n",
    "})\n",
    "\n",
    "df.to_csv('calificaciones_peliculas_raw.csv')"
   ]
  },
  {
   "cell_type": "code",
   "execution_count": 4,
   "id": "a76ca93c-82aa-49c7-bd92-4b5728ecb168",
   "metadata": {},
   "outputs": [],
   "source": [
    "# Usa esta línea en caso de que no quieras correr el scraper\n",
    "# Aquí se convierte el CSV en un dataframe de Pandas\n",
    "# df = pd.read_csv(\"calificaciones_peliculas_raw.csv\")"
   ]
  },
  {
   "cell_type": "code",
   "execution_count": 5,
   "id": "15955e4c-36b4-4b79-8e30-a48adb8f54fe",
   "metadata": {},
   "outputs": [
    {
     "name": "stdout",
     "output_type": "stream",
     "text": [
      "<class 'pandas.core.frame.DataFrame'>\n",
      "RangeIndex: 4106 entries, 0 to 4105\n",
      "Data columns (total 5 columns):\n",
      " #   Column     Non-Null Count  Dtype  \n",
      "---  ------     --------------  -----  \n",
      " 0   película   4106 non-null   object \n",
      " 1   año        4106 non-null   object \n",
      " 2   imdb       4106 non-null   float64\n",
      " 3   metascore  4106 non-null   int64  \n",
      " 4   votos      4106 non-null   int64  \n",
      "dtypes: float64(1), int64(2), object(2)\n",
      "memory usage: 160.5+ KB\n",
      "None\n",
      "time: 56.6 ms (started: 2023-08-25 11:49:50 -05:00)\n"
     ]
    }
   ],
   "source": [
    "print(df.info())"
   ]
  },
  {
   "cell_type": "code",
   "execution_count": 6,
   "id": "83cef3ff-5350-461b-8068-b2db029b1ea1",
   "metadata": {},
   "outputs": [
    {
     "name": "stdout",
     "output_type": "stream",
     "text": [
      "(4106, 5)\n",
      "time: 10.5 ms (started: 2023-08-25 11:49:54 -05:00)\n"
     ]
    }
   ],
   "source": [
    "print(df.shape)"
   ]
  },
  {
   "cell_type": "code",
   "execution_count": 7,
   "id": "9ea07569-e9ed-4fab-991b-44c2b4987a8b",
   "metadata": {},
   "outputs": [
    {
     "name": "stdout",
     "output_type": "stream",
     "text": [
      "                      película     año  imdb  metascore    votos\n",
      "0                    Gladiator  (2000)   8.5         67  1556370\n",
      "1                      Memento  (2000)   8.4         83  1282536\n",
      "2           Cerdos y diamantes  (2000)   8.2         55   883667\n",
      "3          Requiem for a Dream  (2000)   8.3         71   871915\n",
      "4              American Psycho  (2000)   7.6         64   672453\n",
      "5                        X-Men  (2000)   7.3         64   632614\n",
      "6                    Cast Away  (2000)   7.8         73   617739\n",
      "7                  Unbreakable  (2000)   7.3         62   431231\n",
      "8       Mission: Impossible II  (2000)   6.1         59   365914\n",
      "9             Meet the Parents  (2000)   7.0         73   346439\n",
      "10  O Brother, Where Art Thou?  (2000)   7.7         69   322905\n",
      "11       Gone in Sixty Seconds  (2000)   6.5         35   288276\n",
      "12               Almost Famous  (2000)   7.9         90   286373\n",
      "13                 The Patriot  (2000)   7.2         63   286135\n",
      "14             Wo hu cang long  (2000)   7.9         94   277209\n",
      "time: 22.2 ms (started: 2023-08-25 11:49:55 -05:00)\n"
     ]
    }
   ],
   "source": [
    "print(df.head(n=15))"
   ]
  },
  {
   "cell_type": "code",
   "execution_count": 8,
   "id": "16cc40fc-4bf1-4910-9508-eb3990d631f5",
   "metadata": {
    "scrolled": true
   },
   "outputs": [
    {
     "data": {
      "text/html": [
       "<div>\n",
       "<style scoped>\n",
       "    .dataframe tbody tr th:only-of-type {\n",
       "        vertical-align: middle;\n",
       "    }\n",
       "\n",
       "    .dataframe tbody tr th {\n",
       "        vertical-align: top;\n",
       "    }\n",
       "\n",
       "    .dataframe thead th {\n",
       "        text-align: right;\n",
       "    }\n",
       "</style>\n",
       "<table border=\"1\" class=\"dataframe\">\n",
       "  <thead>\n",
       "    <tr style=\"text-align: right;\">\n",
       "      <th></th>\n",
       "      <th>película</th>\n",
       "      <th>año</th>\n",
       "      <th>imdb</th>\n",
       "      <th>metascore</th>\n",
       "      <th>votos</th>\n",
       "    </tr>\n",
       "  </thead>\n",
       "  <tbody>\n",
       "    <tr>\n",
       "      <th>0</th>\n",
       "      <td>Gladiator</td>\n",
       "      <td>(2000)</td>\n",
       "      <td>8.5</td>\n",
       "      <td>67</td>\n",
       "      <td>1556370</td>\n",
       "    </tr>\n",
       "    <tr>\n",
       "      <th>1</th>\n",
       "      <td>Memento</td>\n",
       "      <td>(2000)</td>\n",
       "      <td>8.4</td>\n",
       "      <td>83</td>\n",
       "      <td>1282536</td>\n",
       "    </tr>\n",
       "    <tr>\n",
       "      <th>2</th>\n",
       "      <td>Cerdos y diamantes</td>\n",
       "      <td>(2000)</td>\n",
       "      <td>8.2</td>\n",
       "      <td>55</td>\n",
       "      <td>883667</td>\n",
       "    </tr>\n",
       "    <tr>\n",
       "      <th>3</th>\n",
       "      <td>Requiem for a Dream</td>\n",
       "      <td>(2000)</td>\n",
       "      <td>8.3</td>\n",
       "      <td>71</td>\n",
       "      <td>871915</td>\n",
       "    </tr>\n",
       "    <tr>\n",
       "      <th>4</th>\n",
       "      <td>American Psycho</td>\n",
       "      <td>(2000)</td>\n",
       "      <td>7.6</td>\n",
       "      <td>64</td>\n",
       "      <td>672453</td>\n",
       "    </tr>\n",
       "  </tbody>\n",
       "</table>\n",
       "</div>"
      ],
      "text/plain": [
       "              película     año  imdb  metascore    votos\n",
       "0            Gladiator  (2000)   8.5         67  1556370\n",
       "1              Memento  (2000)   8.4         83  1282536\n",
       "2   Cerdos y diamantes  (2000)   8.2         55   883667\n",
       "3  Requiem for a Dream  (2000)   8.3         71   871915\n",
       "4      American Psycho  (2000)   7.6         64   672453"
      ]
     },
     "execution_count": 8,
     "metadata": {},
     "output_type": "execute_result"
    },
    {
     "name": "stdout",
     "output_type": "stream",
     "text": [
      "time: 40.6 ms (started: 2023-08-25 11:49:59 -05:00)\n"
     ]
    }
   ],
   "source": [
    "df = df[['película', 'año', 'imdb', 'metascore', 'votos']]\n",
    "df.head()"
   ]
  },
  {
   "cell_type": "code",
   "execution_count": 9,
   "id": "55c8dd7c-6c14-4afa-9af6-10b972113ddf",
   "metadata": {},
   "outputs": [
    {
     "data": {
      "text/plain": [
       "array(['(2000)', '(I) (2000)', '(2001)', '(I) (2001)', '(2002)',\n",
       "       '(I) (2002)', '(2002 Video)', '(2003)', '(I) (2003)', '(2004)',\n",
       "       '(I) (2004)', '(2005)', '(I) (2005)', '(2006)', '(I) (2006)',\n",
       "       '(III) (2006)', '(II) (2006)', '(2007)', '(I) (2007)',\n",
       "       '(II) (2007)', '(2008)', '(I) (2008)', '(2009)', '(I) (2009)',\n",
       "       '(II) (2009)', '(2010)', '(I) (2010)', '(II) (2010)', '(2011)',\n",
       "       '(I) (2011)', '(IV) (2011)', '(2012)', '(I) (2012)', '(II) (2012)',\n",
       "       '(2013)', '(I) (2013)', '(II) (2013)', '(2014)', '(I) (2014)',\n",
       "       '(II) (2014)', '(III) (2014)', '(2015)', '(I) (2015)',\n",
       "       '(II) (2015)', '(VI) (2015)', '(III) (2015)', '(I) (2016)',\n",
       "       '(2016)', '(II) (2016)', '(IX) (2016)', '(V) (2016)', '(2017)',\n",
       "       '(I) (2017)', '(II) (2017)', '(III) (2017)', '(2018)',\n",
       "       '(I) (2018)', '(III) (2018)', '(II) (2018)', '(I) (2019)',\n",
       "       '(2019)', '(II) (2019)', '(III) (2019)', '(2020)', '(I) (2020)',\n",
       "       '(II) (2020)', '(IV) (2020)', '(V) (2020)', '(2021)', '(I) (2021)',\n",
       "       '(II) (2021)', '(2022)', '(I) (2022)', '(II) (2022)', '(V) (2022)'],\n",
       "      dtype=object)"
      ]
     },
     "execution_count": 9,
     "metadata": {},
     "output_type": "execute_result"
    },
    {
     "name": "stdout",
     "output_type": "stream",
     "text": [
      "time: 75.6 ms (started: 2023-08-25 11:50:02 -05:00)\n"
     ]
    }
   ],
   "source": [
    "df['año'].unique()"
   ]
  },
  {
   "cell_type": "code",
   "execution_count": 10,
   "id": "32855d44-fe9e-48d7-8520-fb1fe312f542",
   "metadata": {},
   "outputs": [
    {
     "name": "stdout",
     "output_type": "stream",
     "text": [
      "time: 5.63 ms (started: 2023-08-25 11:50:06 -05:00)\n"
     ]
    }
   ],
   "source": [
    "df.loc[:, 'año'] = df['año'].str.strip(' Video)').str[-4:].astype(int)"
   ]
  },
  {
   "cell_type": "code",
   "execution_count": 11,
   "id": "2566133d-c44b-434a-b4ad-0b6429df782e",
   "metadata": {},
   "outputs": [
    {
     "data": {
      "text/plain": [
       "array([2000, 2001, 2002, 2003, 2004, 2005, 2006, 2007, 2008, 2009, 2010,\n",
       "       2011, 2012, 2013, 2014, 2015, 2016, 2017, 2018, 2019, 2020, 2021,\n",
       "       2022], dtype=object)"
      ]
     },
     "execution_count": 11,
     "metadata": {},
     "output_type": "execute_result"
    },
    {
     "name": "stdout",
     "output_type": "stream",
     "text": [
      "time: 5.53 ms (started: 2023-08-25 11:50:07 -05:00)\n"
     ]
    }
   ],
   "source": [
    "df['año'].unique()"
   ]
  },
  {
   "cell_type": "code",
   "execution_count": 12,
   "id": "dd37d2d5-d81f-41ad-b2d5-8fba5d2f31b8",
   "metadata": {},
   "outputs": [
    {
     "name": "stdout",
     "output_type": "stream",
     "text": [
      "time: 2.97 ms (started: 2023-08-25 11:50:11 -05:00)\n"
     ]
    }
   ],
   "source": [
    "df = df.astype({'año': int})"
   ]
  },
  {
   "cell_type": "code",
   "execution_count": 13,
   "id": "d38660e2-977c-4bc3-9ac3-4f370838391a",
   "metadata": {},
   "outputs": [
    {
     "data": {
      "text/plain": [
       "0    2000\n",
       "1    2000\n",
       "2    2000\n",
       "3    2000\n",
       "4    2000\n",
       "Name: año, dtype: int64"
      ]
     },
     "execution_count": 13,
     "metadata": {},
     "output_type": "execute_result"
    },
    {
     "name": "stdout",
     "output_type": "stream",
     "text": [
      "time: 7.18 ms (started: 2023-08-25 11:50:12 -05:00)\n"
     ]
    }
   ],
   "source": [
    "df['año'].head(5)"
   ]
  },
  {
   "cell_type": "code",
   "execution_count": 14,
   "id": "c0ae93ad-bb54-4840-b9ad-d7fd3a889361",
   "metadata": {},
   "outputs": [
    {
     "data": {
      "text/html": [
       "<div>\n",
       "<style scoped>\n",
       "    .dataframe tbody tr th:only-of-type {\n",
       "        vertical-align: middle;\n",
       "    }\n",
       "\n",
       "    .dataframe tbody tr th {\n",
       "        vertical-align: top;\n",
       "    }\n",
       "\n",
       "    .dataframe thead th {\n",
       "        text-align: right;\n",
       "    }\n",
       "</style>\n",
       "<table border=\"1\" class=\"dataframe\">\n",
       "  <thead>\n",
       "    <tr style=\"text-align: right;\">\n",
       "      <th></th>\n",
       "      <th>imdb</th>\n",
       "      <th>metascore</th>\n",
       "    </tr>\n",
       "  </thead>\n",
       "  <tbody>\n",
       "    <tr>\n",
       "      <th>min</th>\n",
       "      <td>1.5</td>\n",
       "      <td>7.0</td>\n",
       "    </tr>\n",
       "    <tr>\n",
       "      <th>max</th>\n",
       "      <td>9.0</td>\n",
       "      <td>100.0</td>\n",
       "    </tr>\n",
       "  </tbody>\n",
       "</table>\n",
       "</div>"
      ],
      "text/plain": [
       "     imdb  metascore\n",
       "min   1.5        7.0\n",
       "max   9.0      100.0"
      ]
     },
     "execution_count": 14,
     "metadata": {},
     "output_type": "execute_result"
    },
    {
     "name": "stdout",
     "output_type": "stream",
     "text": [
      "time: 38.8 ms (started: 2023-08-25 11:50:15 -05:00)\n"
     ]
    }
   ],
   "source": [
    "df.describe().loc[['min', 'max'], ['imdb', 'metascore']]"
   ]
  },
  {
   "cell_type": "code",
   "execution_count": 15,
   "id": "aafa470f-cfaa-4d3c-a91f-16a3da24e13a",
   "metadata": {},
   "outputs": [
    {
     "data": {
      "text/html": [
       "<div>\n",
       "<style scoped>\n",
       "    .dataframe tbody tr th:only-of-type {\n",
       "        vertical-align: middle;\n",
       "    }\n",
       "\n",
       "    .dataframe tbody tr th {\n",
       "        vertical-align: top;\n",
       "    }\n",
       "\n",
       "    .dataframe thead th {\n",
       "        text-align: right;\n",
       "    }\n",
       "</style>\n",
       "<table border=\"1\" class=\"dataframe\">\n",
       "  <thead>\n",
       "    <tr style=\"text-align: right;\">\n",
       "      <th></th>\n",
       "      <th>película</th>\n",
       "      <th>año</th>\n",
       "      <th>imdb</th>\n",
       "      <th>metascore</th>\n",
       "      <th>votos</th>\n",
       "      <th>n_imdb</th>\n",
       "    </tr>\n",
       "  </thead>\n",
       "  <tbody>\n",
       "    <tr>\n",
       "      <th>0</th>\n",
       "      <td>Gladiator</td>\n",
       "      <td>2000</td>\n",
       "      <td>8.5</td>\n",
       "      <td>67</td>\n",
       "      <td>1556370</td>\n",
       "      <td>85.0</td>\n",
       "    </tr>\n",
       "    <tr>\n",
       "      <th>1</th>\n",
       "      <td>Memento</td>\n",
       "      <td>2000</td>\n",
       "      <td>8.4</td>\n",
       "      <td>83</td>\n",
       "      <td>1282536</td>\n",
       "      <td>84.0</td>\n",
       "    </tr>\n",
       "    <tr>\n",
       "      <th>2</th>\n",
       "      <td>Cerdos y diamantes</td>\n",
       "      <td>2000</td>\n",
       "      <td>8.2</td>\n",
       "      <td>55</td>\n",
       "      <td>883667</td>\n",
       "      <td>82.0</td>\n",
       "    </tr>\n",
       "  </tbody>\n",
       "</table>\n",
       "</div>"
      ],
      "text/plain": [
       "             película   año  imdb  metascore    votos  n_imdb\n",
       "0           Gladiator  2000   8.5         67  1556370    85.0\n",
       "1             Memento  2000   8.4         83  1282536    84.0\n",
       "2  Cerdos y diamantes  2000   8.2         55   883667    82.0"
      ]
     },
     "execution_count": 15,
     "metadata": {},
     "output_type": "execute_result"
    },
    {
     "name": "stdout",
     "output_type": "stream",
     "text": [
      "time: 13 ms (started: 2023-08-25 11:50:18 -05:00)\n"
     ]
    }
   ],
   "source": [
    "df['n_imdb'] = df['imdb'] * 10\n",
    "df.head(3)"
   ]
  },
  {
   "cell_type": "code",
   "execution_count": 16,
   "id": "30a287a1-470d-4ebb-8083-7c0a74934cce",
   "metadata": {},
   "outputs": [
    {
     "name": "stdout",
     "output_type": "stream",
     "text": [
      "time: 18.4 ms (started: 2023-08-25 11:50:20 -05:00)\n"
     ]
    }
   ],
   "source": [
    "df.to_csv('calificaciones_peliculas.csv')"
   ]
  },
  {
   "cell_type": "code",
   "execution_count": 17,
   "id": "0e4b7d69-8b8e-4a52-88dc-a7f81c25445e",
   "metadata": {},
   "outputs": [
    {
     "name": "stdout",
     "output_type": "stream",
     "text": [
      "time: 853 ms (started: 2023-08-25 11:50:24 -05:00)\n"
     ]
    }
   ],
   "source": [
    "import matplotlib.pyplot as plt\n",
    "%matplotlib inline"
   ]
  },
  {
   "cell_type": "code",
   "execution_count": 18,
   "id": "46603201-311c-4dfe-b8ce-87c63e77372e",
   "metadata": {},
   "outputs": [
    {
     "data": {
      "image/png": "[encoded data removed]",
      "text/plain": [
       "<Figure size 1600x400 with 3 Axes>"
      ]
     },
     "metadata": {},
     "output_type": "display_data"
    },
    {
     "name": "stdout",
     "output_type": "stream",
     "text": [
      "time: 613 ms (started: 2023-08-25 11:50:27 -05:00)\n"
     ]
    }
   ],
   "source": [
    "fig, axes = plt.subplots(nrows = 1, ncols = 3, figsize = (16,4))\n",
    "ax1, ax2, ax3 = fig.axes\n",
    "ax1.hist(df['imdb'], bins = 10, range = (0,10)) # bin range = 1\n",
    "ax1.set_title('IMDB rating')\n",
    "\n",
    "ax2.hist(df['metascore'], bins = 10, range = (0,100)) # bin range = 10\n",
    "ax2.set_title('Metascore')\n",
    "\n",
    "ax3.hist(df['n_imdb'], bins = 10, range = (0,100), histtype = 'step', label='n_imdb')\n",
    "ax3.hist(df['metascore'], bins = 10, range = (0,100), histtype = 'step', label='metascore')\n",
    "ax3.legend(loc = 'upper left')\n",
    "ax3.set_title('The Two Normalized Distributions')\n",
    "\n",
    "for ax in fig.axes:\n",
    "    ax.spines['top'].set_visible(False)\n",
    "    ax.spines['right'].set_visible(False)\n",
    "plt.show()"
   ]
  },
  {
   "cell_type": "code",
   "execution_count": null,
   "id": "411d0736-1729-49c9-8187-abc7839dd691",
   "metadata": {},
   "outputs": [],
   "source": []
  }
 ],
 "metadata": {
  "kernelspec": {
   "display_name": "Python 3 (ipykernel)",
   "language": "python",
   "name": "python3"
  },
  "language_info": {
   "codemirror_mode": {
    "name": "ipython",
    "version": 3
   },
   "file_extension": ".py",
   "mimetype": "text/x-python",
   "name": "python",
   "nbconvert_exporter": "python",
   "pygments_lexer": "ipython3",
   "version": "3.11.4"
  }
 },
 "nbformat": 4,
 "nbformat_minor": 5
}
