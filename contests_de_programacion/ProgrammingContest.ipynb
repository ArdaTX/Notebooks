{
 "cells": [
  {
   "cell_type": "markdown",
   "metadata": {},
   "source": [
    "# The Coins of Robbie\n",
    "\n",
    "_By Adriano Pereira Almeida_, _Centro Universitário Estácio da Amazônia BR Brazil_\n",
    "\n",
    "___Timelimit: 1___\n",
    "\n",
    "Robbie is a very charismatic robot, and one of the things that he most likes to do, besides playing with Glória, it's to collect coins. Robbie has several coins with equal or different values, and all with the same size. They are stored in an organized manner on top of each other, inside a glass cylinder. Robbie always plays a little game with Glória using his coins whenever she asks to play hide and seek with him, or when she asks him to take her for a walk. The rule of the game is: Glória has to choose any number N, which will be added, then for each coin N  the value of the coin Vi is added until there aren't more coins, in other words Ʃ of ((VM-(N*0) )+(VM-(N*1))+(VM-(N*2))...), M is the number of coins. Such as that if there are 5 coins with values of 1, 2, 3, 4 and 5, and Glória chooses 2 as number of jumps (did not understand what the author meant here by jumps), then the coins will be added as 5, 3 and 1, resulting in 9. In the end, Robbie checks if the sum of these coins is a prime number, if it results in yes, he will do what Glória wants, if it doesn't, the little girl will convince Robbie to play again, because she can always make him do everything, saying that will make him stop telling stories if he doesn't complies.\n",
    "\n",
    "You, as a good developer of U.S Robots, will help this two friends, by coding a computer program that will give the result of the game.\n",
    "\n",
    "## Input\n",
    "\n",
    "The input contains several test cases. The first line of a test case contains an integer M (2 ≤ M ≤ 20) that represents the quantity of coins. Each of the next lines M contains an integer Vi (1 ≤ Vi ≤500) that represents the value of coins Mi , and for the last one, a integer N (1 ≤ N ≤ M) that’s the jump in the added choosen by Gloria.\n",
    "\n",
    "The input ends with EOF.\n",
    "\n",
    "\n",
    "## Output\n",
    "\n",
    "Print “You’re a coastal aircraft, Robbie, a large silver aircraft.”, if Gloria win the game, or “Bad boy! I’ll hit you.”, if Glória loose the game. The output should be no quotation marks.\n"
   ]
  },
  {
   "cell_type": "code",
   "execution_count": 28,
   "metadata": {},
   "outputs": [],
   "source": [
    "def filtered(number: int) -> bool:\n",
    "    \"\"\"\n",
    "    This function is used to filter numbers if they are a number different to -1.\n",
    "\n",
    "    Args:\n",
    "        number(int): Number to be checked.\n",
    "\n",
    "    Return:\n",
    "        True if number is different to -1, False otherwise.\n",
    "    \"\"\"\n",
    "    return True if number != -1 else False\n",
    "\n"
   ]
  },
  {
   "cell_type": "code",
   "execution_count": 29,
   "metadata": {},
   "outputs": [],
   "source": [
    "#!pip install ipytest\n",
    "\n",
    "import ipytest\n",
    "ipytest.autoconfig()\n",
    "\n",
    "# example of test cases for filtered function\n",
    "def test_filtered_true():\n",
    "    assert filtered(0) == True\n",
    "    assert filtered(1) == True\n",
    "    assert filtered(-2) == True\n",
    "    assert filtered(100) == True\n",
    "    assert filtered(-100) == True\n",
    "\n",
    "def test_filtered_false():\n",
    "    assert filtered(-1) == False\n"
   ]
  },
  {
   "cell_type": "code",
   "execution_count": 30,
   "metadata": {},
   "outputs": [],
   "source": [
    "def primes(n: int) -> list[int]:\n",
    "    \"\"\"\n",
    "    This function is used to get a list of prime numbers from 2 to n (parameter)\n",
    "\n",
    "    Args:\n",
    "        n: Maximum number to get prime numbers.\n",
    "\n",
    "    Return:\n",
    "        List of prime numbers from 2 to n.\n",
    "    \"\"\"\n",
    "    numbers = [i for i in range(2, n+1)] # generate all numbers from 2 to n\n",
    "    size_ = len(numbers)\n",
    "    for i in range(n // 2): # just use first half of numbers to validate multiples\n",
    "        value = numbers[i] \n",
    "        if value == -1:\n",
    "            continue\n",
    "        for j in range(i+value, size_, value): # get multiples based on list numbers\n",
    "            numbers[j] = -1\n",
    "    primes_ = list(filter(filtered, numbers))\n",
    "    return primes_"
   ]
  },
  {
   "cell_type": "code",
   "execution_count": 31,
   "metadata": {},
   "outputs": [],
   "source": [
    "import pytest\n",
    "\n",
    "\n",
    "@pytest.mark.parametrize(\"n, expected\", [\n",
    "    (1, []),\n",
    "    (2, [2]),\n",
    "    (10, [2, 3, 5, 7]),\n",
    "    (20, [2, 3, 5, 7, 11, 13, 17, 19]),\n",
    "])\n",
    "def test_primes(n, expected):\n",
    "    assert primes(n) == expected\n",
    "\n",
    "def test_primes_negative():\n",
    "    with pytest.raises(ValueError):\n",
    "        primes(-1)\n",
    "\n",
    "def test_primes_zero():\n",
    "    assert primes(0) == []\n",
    "\n"
   ]
  },
  {
   "cell_type": "code",
   "execution_count": 32,
   "metadata": {},
   "outputs": [],
   "source": [
    "def play_the_game(m, n, coins) -> None:\n",
    "    \"\"\"\n",
    "    This function is used to play the game with the given parameters.\n",
    "\n",
    "    Args:\n",
    "        m: Number of coins.\n",
    "        n: Jump size.\n",
    "        coins: List of coins.\n",
    "    \"\"\"\n",
    "    value = sum(coins[m::-n]) # calculate the sum of coins after jumps\n",
    "    if(value not in prime_list): # define output\n",
    "        print(\"Bad boy! I’ll hit you.\")\n",
    "    else:\n",
    "        print(\"You’re a coastal aircraft, Robbie, a large silver aircraft.\")"
   ]
  },
  {
   "cell_type": "code",
   "execution_count": 33,
   "metadata": {},
   "outputs": [
    {
     "name": "stdout",
     "output_type": "stream",
     "text": [
      "\u001b[1m======================================= test session starts ========================================\u001b[0m\n",
      "platform linux -- Python 3.11.0rc2, pytest-8.1.1, pluggy-1.4.0\n",
      "rootdir: /home/csierra/Projects/UDMaterials/talks\n",
      "plugins: anyio-4.3.0, typeguard-4.2.1\n",
      "collected 9 items\n",
      "\n",
      "t_5a97b7540a964d9684a8b2efd574ad1c.py \u001b[32m.\u001b[0m\u001b[32m.\u001b[0m\u001b[32m.\u001b[0m\u001b[32m.\u001b[0m\u001b[32m.\u001b[0m\u001b[32m.\u001b[0m\u001b[31mF\u001b[0m\u001b[32m.\u001b[0m\u001b[32m.\u001b[0m\u001b[31m                                              [100%]\u001b[0m\n",
      "\n",
      "============================================= FAILURES =============================================\n",
      "\u001b[31m\u001b[1m_______________________________________ test_primes_negative _______________________________________\u001b[0m\n",
      "\n",
      "    \u001b[0m\u001b[94mdef\u001b[39;49;00m \u001b[92mtest_primes_negative\u001b[39;49;00m():\u001b[90m\u001b[39;49;00m\n",
      ">       \u001b[94mwith\u001b[39;49;00m pytest.raises(\u001b[96mValueError\u001b[39;49;00m):\u001b[90m\u001b[39;49;00m\n",
      "\u001b[1m\u001b[31mE       Failed: DID NOT RAISE <class 'ValueError'>\u001b[0m\n",
      "\n",
      "\u001b[1m\u001b[31m/tmp/ipykernel_205048/97298898.py\u001b[0m:14: Failed\n",
      "\u001b[36m\u001b[1m===================================== short test summary info ======================================\u001b[0m\n",
      "\u001b[31mFAILED\u001b[0m t_5a97b7540a964d9684a8b2efd574ad1c.py::\u001b[1mtest_primes_negative\u001b[0m - Failed: DID NOT RAISE <class 'ValueError'>\n",
      "\u001b[31m=================================== \u001b[31m\u001b[1m1 failed\u001b[0m, \u001b[32m8 passed\u001b[0m\u001b[31m in 0.20s\u001b[0m\u001b[31m ====================================\u001b[0m\n"
     ]
    },
    {
     "data": {
      "text/plain": [
       "<ExitCode.TESTS_FAILED: 1>"
      ]
     },
     "execution_count": 33,
     "metadata": {},
     "output_type": "execute_result"
    }
   ],
   "source": [
    "import pytest\n",
    "\n",
    "# Assuming coins and prime_list are defined globally\n",
    "m = 5\n",
    "coins = [1, 2, 3, 4, 5]\n",
    "\n",
    "def test_play_the_game(capfd):\n",
    "    play_the_game(m, 2, coins)\n",
    "    out, err = capfd.readouterr()\n",
    "    assert out == \"Bad boy! I’ll hit you.\\n\"\n",
    "\n",
    "    play_the_game(m, 3, coins)\n",
    "    out, err = capfd.readouterr()\n",
    "    assert out == \"You’re a coastal aircraft, Robbie, a large silver aircraft.\\n\"\n",
    "\n",
    "ipytest.run('-v')"
   ]
  },
  {
   "cell_type": "code",
   "execution_count": 34,
   "metadata": {},
   "outputs": [
    {
     "name": "stdout",
     "output_type": "stream",
     "text": [
      "Bad boy! I’ll hit you.\n",
      "You’re a coastal aircraft, Robbie, a large silver aircraft.\n"
     ]
    }
   ],
   "source": [
    "prime_list = primes(10001)\n",
    "while True:\n",
    "    try:\n",
    "        m = int(input())\n",
    "    except:\n",
    "        break\n",
    "    \n",
    "    # get coins values\n",
    "    coins = []\n",
    "    for i in range(m):\n",
    "        coins.append(int(input()))\n",
    "    \n",
    "    # get jump value\n",
    "    n = int(input())\n",
    "    \n",
    "    play_the_game(m, n, coins) # play the game"
   ]
  }
 ],
 "metadata": {
  "kernelspec": {
   "display_name": "udistrital",
   "language": "python",
   "name": "python3"
  },
  "language_info": {
   "codemirror_mode": {
    "name": "ipython",
    "version": 3
   },
   "file_extension": ".py",
   "mimetype": "text/x-python",
   "name": "python",
   "nbconvert_exporter": "python",
   "pygments_lexer": "ipython3",
   "version": "3.11.0"
  }
 },
 "nbformat": 4,
 "nbformat_minor": 2
}
